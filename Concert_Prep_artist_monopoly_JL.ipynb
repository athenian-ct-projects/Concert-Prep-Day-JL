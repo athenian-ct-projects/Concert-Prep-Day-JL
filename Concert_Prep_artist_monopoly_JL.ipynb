{
  "nbformat": 4,
  "nbformat_minor": 0,
  "metadata": {
    "colab": {
      "name": "Concert Prep artist monopoly JL",
      "provenance": [],
      "collapsed_sections": [],
      "include_colab_link": true
    },
    "kernelspec": {
      "name": "python3",
      "display_name": "Python 3"
    }
  },
  "cells": [
    {
      "cell_type": "markdown",
      "metadata": {
        "id": "view-in-github",
        "colab_type": "text"
      },
      "source": [
        "<a href=\"https://colab.research.google.com/github/athenian-ct-projects/Concert-Prep-Day-JL/blob/master/Concert_Prep_artist_monopoly_JL.ipynb\" target=\"_parent\"><img src=\"https://colab.research.google.com/assets/colab-badge.svg\" alt=\"Open In Colab\"/></a>"
      ]
    },
    {
      "cell_type": "markdown",
      "metadata": {
        "id": "xpdEYMvhQT0o",
        "colab_type": "text"
      },
      "source": [
        "Artist-themed Monopoly for Concert Prep Day\n",
        "\n",
        "Jack L. '23"
      ]
    },
    {
      "cell_type": "code",
      "metadata": {
        "id": "RgAOeJcsFqwx",
        "colab_type": "code",
        "outputId": "b6608df2-610c-4989-8998-0bca2c0c84b7",
        "colab": {
          "base_uri": "https://localhost:8080/",
          "height": 204
        }
      },
      "source": [
        "#art fact function\n",
        "def fact():\n",
        "    import random\n",
        "    x = random.randint(1,10)\n",
        "    if x == 1:\n",
        "        print(\"Bob Ross's 'Joy of Painting' TV series lasted for 31 seasons\")\n",
        "    if x == 2:\n",
        "        print(\"In 1911 when the Mona Lisa was stolen from the Louvre, Pablo Picasso was one of the two primary suspects in the investigation \\nbefore it was found out that an employee did it\")\n",
        "    if x == 3:\n",
        "        print(\"Salvador Dalí thinks that he is a re-incarnation of his brother that died before he was born\")\n",
        "    if x == 4:\n",
        "        print(\"Vincent van Gogh only ever sold one painting in his life\")\n",
        "    if x == 5:\n",
        "        print(\"'The Last Supper' by Leonardo da Vinci originally featured Jesus's feet, but in 1652 when installing a door in the refectory where the painting is, \\nthe feet were cut off\")\n",
        "    if x == 6:\n",
        "        print(\"Vincent van Gogh's painting 'The Starry Night' is the view from a psychiatric hospital in France where van Gogh was staying when he painted it\")\n",
        "    if x == 7:\n",
        "        print(\"The marble that was used for Michelangelo's 'David' was used by two other sculptors before Michelangelo\")\n",
        "    if x == 8:\n",
        "        print(\"There are five versions of Edvard Munch’s 'The Scream'\")\n",
        "    if x == 9:\n",
        "        print(\"Auguste Rodin’s 'The Thinker' originally was only 70cm until he later made an enlarged version\")\n",
        "    if x == 10:\n",
        "        print(\"Andy Warhol's Campbell's Soup cans came in a set of thirty-two cans\")\n",
        "#Rainbow paint bucket function\n",
        "def paint():\n",
        "    import random\n",
        "    y = random.randint(1,10)\n",
        "    if y == 1:\n",
        "        print(\"HOORAY, advance to go collect $200\")\n",
        "    if y == 2:\n",
        "        print(\"You commited tax fraud - go to jail. If you pass go do not collect $200.\")\n",
        "    if y == 3:\n",
        "        print(\"You are a guest star on a game show. Collect $100 from the bank.\")\n",
        "    if y == 4:\n",
        "        print(\"You drink a Sprite cranbery. Suddenly your door falls down and Lebron James walks in and hands you a fat stack of cash. Collect $500 from the bank.\")\n",
        "    if y == 5:\n",
        "        print(\"Some guy blows up your house with a grenade launcher like in John Wick 2. Pay the bank $200.\")\n",
        "    if y == 6:\n",
        "        print(\"The Great Depression happens again and your bank fails. Pay the bank all of your money (you can mortgage your artists to avoid going bankrupt).\")\n",
        "    if y == 7:\n",
        "        print(\"You get in a car crash while wearng a VR headset and playing a flight simulator in the car, saying 'it will be like I am flying in a plane'. \\nPay the bank $200 in medical fees\")\n",
        "    if y == 8:\n",
        "        print(\"Your grandfather dies and he leaves you an inheritance. You assume his massive debt and pay the bank $500.\")\n",
        "    if y == 9:\n",
        "        print(\"Your favorite NFL team wins the Super Bowl! Pay the bank $50 for the jersey you bought.\")\n",
        "    if y == 10:\n",
        "        print(\"You win the lottery but spend it all on worthless stuff. Roll the dice again\")\n",
        "#Instructions\n",
        "print(\"Welcome to Artist Monopoly!\")\n",
        "print(\"This is just like regular monopoly but with some IMPORTANT twists:\")\n",
        "print(\"To roll dice just ask siri to roll a pair of dice\")\n",
        "print(\"*there are more spaces, and railroads have been replaced with more modern airlines\")\n",
        "print(\"*there are auction spaces now. If you land on one you can buy any artist on the board but you have to pay double (only one artist each time you land on the spot).\")\n",
        "print(\"*trading artists for money and other artists are encoureged but you can only propose a trade on your turn.\")\n",
        "print(\"*chance spaces have been replaced by artist facts. If you land on that space, type the word 'fact' into the computer.\")\n",
        "print(\"*community chests have been replaced by rainbow paint buckets. If you land on that space, type the word 'paint' into the computer.\\n\")\n",
        "print(\"IMPORTANT: When someone goes bankrupt, type the word 'player' into the computer.\\n\")\n",
        "player = int(input(\"How many people are playing today? \"))\n",
        "print(\"Alright you're ready to play. Everyone starts with $1500\")\n",
        "\n",
        "#Gameplay while loop\n",
        "while player > 1:\n",
        "    tip = input()\n",
        "    if tip == \"fact\":\n",
        "        fact()\n",
        "    elif tip == \"paint\":\n",
        "        paint()\n",
        "    elif tip == \"player\":\n",
        "        player = player - 1\n",
        "    else:\n",
        "        print(\"You must have spelled somthing wrong. Try again.\")\n",
        "\n",
        "#Final score calculating\n",
        "print(\"Looks like we have a winner! Now lets calculate your final score.\")\n",
        "pig = int(input(\"How much money did the winner have in the end? \"))\n",
        "fig = 0\n",
        "for z in range(1,pig):\n",
        "  fig = fig + z\n",
        "print(\"The final score of the winner is:\")\n",
        "print(fig)\n",
        "print(\"Thanks for playing!\")"
      ],
      "execution_count": 0,
      "outputs": [
        {
          "output_type": "stream",
          "text": [
            "Welcome to Artist Monopoly!\n",
            "This is just like regular monopoly but with some IMPORTANT twists:\n",
            "To roll dice just ask siri to roll a pair of dice\n",
            "*there are more spaces, and railroads have been replaced with more modern airlines\n",
            "*there are auction spaces now. If you land on one you can buy any artist on the board but you have to pay double (only one artist each time you land on the spot).\n",
            "*trading artists for money and other artists are encoureged but you can only propose a trade on your turn.\n",
            "*chance spaces have been replaced by artist facts. If you land on that space, type the word 'fact' into the computer.\n",
            "*community chests have been replaced by rainbow paint buckets. If you land on that space, type the word 'paint' into the computer.\n",
            "\n",
            "IMPORTANT: When someone goes bankrupt, type the word 'player' into the computer.\n",
            "\n"
          ],
          "name": "stdout"
        }
      ]
    },
    {
      "cell_type": "markdown",
      "metadata": {
        "id": "zrsfoVedEdtd",
        "colab_type": "text"
      },
      "source": [
        "https://www.bocadolobo.com/blog/art/famous-artists-time/\n",
        "\n",
        "https://www.mentalfloss.com/article/5838715-things-you-didnt-know-about-famous-art\n",
        "\n",
        "https://medium.com/@inna_13021/taxes-youll-have-to-pay-when-purchasing-or-selling-art-a418b958c457"
      ]
    }
  ]
}